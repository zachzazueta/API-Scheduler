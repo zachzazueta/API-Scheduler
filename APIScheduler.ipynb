{
 "cells": [
  {
   "cell_type": "code",
   "execution_count": 1,
   "metadata": {},
   "outputs": [
    {
     "name": "stdout",
     "output_type": "stream",
     "text": [
      "Collecting apscheduler\n",
      "  Downloading https://files.pythonhosted.org/packages/f3/34/9ef20ed473c4fd2c3df54ef77a27ae3fc7500b16b192add4720cab8b2c09/APScheduler-3.6.3-py2.py3-none-any.whl (58kB)\n",
      "Collecting tzlocal>=1.2 (from apscheduler)\n",
      "  Downloading https://files.pythonhosted.org/packages/5d/94/d47b0fd5988e6b7059de05720a646a2930920fff247a826f61674d436ba4/tzlocal-2.1-py2.py3-none-any.whl\n",
      "Requirement already satisfied: setuptools>=0.7 in c:\\users\\zachzazueta\\appdata\\local\\continuum\\anaconda3\\envs\\learn-env\\lib\\site-packages (from apscheduler) (41.4.0)\n",
      "Requirement already satisfied: pytz in c:\\users\\zachzazueta\\appdata\\local\\continuum\\anaconda3\\envs\\learn-env\\lib\\site-packages (from apscheduler) (2019.3)\n",
      "Requirement already satisfied: six>=1.4.0 in c:\\users\\zachzazueta\\appdata\\local\\continuum\\anaconda3\\envs\\learn-env\\lib\\site-packages (from apscheduler) (1.12.0)\n",
      "Installing collected packages: tzlocal, apscheduler\n",
      "Successfully installed apscheduler-3.6.3 tzlocal-2.1\n"
     ]
    }
   ],
   "source": [
    "!pip install apscheduler"
   ]
  },
  {
   "cell_type": "code",
   "execution_count": null,
   "metadata": {},
   "outputs": [],
   "source": []
  }
 ],
 "metadata": {
  "kernelspec": {
   "display_name": "Python [conda env:learn-env] *",
   "language": "python",
   "name": "conda-env-learn-env-py"
  },
  "language_info": {
   "codemirror_mode": {
    "name": "ipython",
    "version": 3
   },
   "file_extension": ".py",
   "mimetype": "text/x-python",
   "name": "python",
   "nbconvert_exporter": "python",
   "pygments_lexer": "ipython3",
   "version": "3.6.9"
  }
 },
 "nbformat": 4,
 "nbformat_minor": 4
}
